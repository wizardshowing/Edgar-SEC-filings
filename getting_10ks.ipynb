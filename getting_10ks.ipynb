{
 "metadata": {
  "name": "",
  "signature": "sha256:5943d75929cf34e89982b990451534101ed09da36fb42ce08b4a7cb6c98ab5b1"
 },
 "nbformat": 3,
 "nbformat_minor": 0,
 "worksheets": [
  {
   "cells": [
    {
     "cell_type": "code",
     "collapsed": false,
     "input": [
      "import pandas as pd"
     ],
     "language": "python",
     "metadata": {},
     "outputs": [],
     "prompt_number": 1
    },
    {
     "cell_type": "code",
     "collapsed": false,
     "input": [
      "#Read in metadata\n",
      "meta = pd.read_csv('meta/metadata.txt', sep='|', index_col=False, names = ['company_name', 'form_type', 'cik', 'date', 'filepath'])\n",
      "meta.head()"
     ],
     "language": "python",
     "metadata": {},
     "outputs": [
      {
       "html": [
        "<div style=\"max-height:1000px;max-width:1500px;overflow:auto;\">\n",
        "<table border=\"1\" class=\"dataframe\">\n",
        "  <thead>\n",
        "    <tr style=\"text-align: right;\">\n",
        "      <th></th>\n",
        "      <th>company_name</th>\n",
        "      <th>form_type</th>\n",
        "      <th>cik</th>\n",
        "      <th>date</th>\n",
        "      <th>filepath</th>\n",
        "    </tr>\n",
        "  </thead>\n",
        "  <tbody>\n",
        "    <tr>\n",
        "      <th>0</th>\n",
        "      <td> Guggenheim Defined Portfolios, Series 1088</td>\n",
        "      <td>     487</td>\n",
        "      <td> 1577698</td>\n",
        "      <td> 2013-11-22</td>\n",
        "      <td> C:\\Users\\zacharybeaver\\Documents\\Github_stuffs...</td>\n",
        "    </tr>\n",
        "    <tr>\n",
        "      <th>1</th>\n",
        "      <td>                                MASIMO CORP</td>\n",
        "      <td>       4</td>\n",
        "      <td>  937556</td>\n",
        "      <td> 2009-08-19</td>\n",
        "      <td> C:\\Users\\zacharybeaver\\Documents\\Github_stuffs...</td>\n",
        "    </tr>\n",
        "    <tr>\n",
        "      <th>2</th>\n",
        "      <td>                             INTERWOVEN INC</td>\n",
        "      <td>     8-K</td>\n",
        "      <td> 1042431</td>\n",
        "      <td> 2004-09-15</td>\n",
        "      <td> C:\\Users\\zacharybeaver\\Documents\\Github_stuffs...</td>\n",
        "    </tr>\n",
        "    <tr>\n",
        "      <th>3</th>\n",
        "      <td>               THERMADYNE HOLDINGS CORP /DE</td>\n",
        "      <td> CORRESP</td>\n",
        "      <td>  850660</td>\n",
        "      <td> 2011-05-25</td>\n",
        "      <td> C:\\Users\\zacharybeaver\\Documents\\Github_stuffs...</td>\n",
        "    </tr>\n",
        "    <tr>\n",
        "      <th>4</th>\n",
        "      <td>                               GO GROUP LLC</td>\n",
        "      <td>       D</td>\n",
        "      <td> 1430525</td>\n",
        "      <td> 2010-01-19</td>\n",
        "      <td> C:\\Users\\zacharybeaver\\Documents\\Github_stuffs...</td>\n",
        "    </tr>\n",
        "  </tbody>\n",
        "</table>\n",
        "</div>"
       ],
       "metadata": {},
       "output_type": "pyout",
       "prompt_number": 5,
       "text": [
        "                                 company_name form_type      cik        date  \\\n",
        "0  Guggenheim Defined Portfolios, Series 1088       487  1577698  2013-11-22   \n",
        "1                                 MASIMO CORP         4   937556  2009-08-19   \n",
        "2                              INTERWOVEN INC       8-K  1042431  2004-09-15   \n",
        "3                THERMADYNE HOLDINGS CORP /DE   CORRESP   850660  2011-05-25   \n",
        "4                                GO GROUP LLC         D  1430525  2010-01-19   \n",
        "\n",
        "                                            filepath  \n",
        "0  C:\\Users\\zacharybeaver\\Documents\\Github_stuffs...  \n",
        "1  C:\\Users\\zacharybeaver\\Documents\\Github_stuffs...  \n",
        "2  C:\\Users\\zacharybeaver\\Documents\\Github_stuffs...  \n",
        "3  C:\\Users\\zacharybeaver\\Documents\\Github_stuffs...  \n",
        "4  C:\\Users\\zacharybeaver\\Documents\\Github_stuffs...  "
       ]
      }
     ],
     "prompt_number": 5
    },
    {
     "cell_type": "code",
     "collapsed": false,
     "input": [
      "meta.form_type.unique()"
     ],
     "language": "python",
     "metadata": {},
     "outputs": [
      {
       "metadata": {},
       "output_type": "pyout",
       "prompt_number": 6,
       "text": [
        "array(['487', '4', '8-K', 'CORRESP', 'D', '24F-2NT', 'S-8', '424B3', '6-K',\n",
        "       '485BPOS', 'PRE 14A', 'SC 13G', '497', 'SC 13D/A', '10-Q', '10-K',\n",
        "       '10-K405/A', '3', '497J', '8-K/A', 'CERTNYS', 'SC 13G/A', '15-15D',\n",
        "       '11-K', 'FWP', 'S-6', 'AW', 'REGDEX', 'SC 13D', '40-6C/A', 'N-PX/A',\n",
        "       'UPLOAD', 'N-CSR', '497K', '13F-HR', '10-Q/A', '4/A', 'N-PX',\n",
        "       'NO ACT', 'PRES14A', 'DEFS14A', 'S-8 POS', 'SB-2/A', '5', 'SC 13E3',\n",
        "       'MA-I', 'S-1/A', '424B2', 'DEFM14A', 'NSAR-A', '20-F', 'POS AMI',\n",
        "       'NT 10-Q', 'S-3ASR', 'U-1', 'NT 10-K', 'REGDEX/A', 'N-30D',\n",
        "       '10KSB/A', '10-K/A', '425', 'N-Q', 'DEF 14A', 'S-4/A', 'DEFA14A',\n",
        "       'NSAR-A/A', '10QSB', 'S-1', 'DFRN14A', 'RW WD', 'U5S', 'D/A',\n",
        "       '40-17G', '13FCONP', '13F-NT', 'X-17A-5/A', 'S-4', 'F-X', '424B4',\n",
        "       'SC 13E3/A', 'S-6/A', '8-A12G', 'EFFECT', 'ARS', '424B5', '144',\n",
        "       'ADV-E', 'N-4', 'N-2/A', 'PRER14A', 'DEFC14A', 'U-6B-2', '25-NSE',\n",
        "       '19B-4E', 'SUPPL', 'F-3', 'S-3/A', '10-D', 'SC TO-T/A', '10QSB/A',\n",
        "       'X-17A-5', '20-F/A', 'N-MFP', '424B1', 'N-14AE', '15-12G', 'NSAR-U',\n",
        "       'CT ORDER', '12G32BR', 'FOCUSN', 'N-CSRS', '485APOS', 'RW',\n",
        "       'NSAR-B', 'U-7D', '10-K405', '485BXT', '40-APP/A', '424A', 'S-3',\n",
        "       'PREM14C', '40-17G/A', '8-A12B', 'F-4/A', 'POS AM', '13F-HR/A',\n",
        "       '3/A', 'POSASR', 'S-11/A'], dtype=object)"
       ]
      }
     ],
     "prompt_number": 6
    },
    {
     "cell_type": "code",
     "collapsed": false,
     "input": [
      "k10_filepaths = meta[meta.form_type == '10-K'].filepath"
     ],
     "language": "python",
     "metadata": {},
     "outputs": [],
     "prompt_number": 8
    },
    {
     "cell_type": "code",
     "collapsed": false,
     "input": [
      "import os"
     ],
     "language": "python",
     "metadata": {},
     "outputs": [],
     "prompt_number": 22
    },
    {
     "cell_type": "code",
     "collapsed": false,
     "input": [
      "#Move all these 10ks into another folder\n",
      "origin = \"C:\\\\Users\\zacharybeaver\\\\Documents\\\\Edgar\\\\\"\n",
      "dest_folder = \"C:\\\\Users\\zacharybeaver\\\\Documents\\\\Edgar\\\\10k\\\\\"\n",
      "for i in k10_filepaths[:-1]:\n",
      "    fp_list = i.split('\\\\')\n",
      "    fp = origin + \"\\\\\".join(fp_list[-2:])\n",
      "    print fp\n",
      "    print dest_folder + fp_list[-1]\n",
      "    os.rename(fp, dest_folder + fp_list[-1])"
     ],
     "language": "python",
     "metadata": {},
     "outputs": [
      {
       "output_type": "stream",
       "stream": "stdout",
       "text": [
        "C:\\Users\\zacharybeaver\\Documents\\Edgar\\docs\\824412_0000892569-96-001959.txt\n",
        "C:\\Users\\zacharybeaver\\Documents\\Edgar\\10k\\824412_0000892569-96-001959.txt\n",
        "C:\\Users\\zacharybeaver\\Documents\\Edgar\\docs\\719184_0000711642-12-000040.txt\n",
        "C:\\Users\\zacharybeaver\\Documents\\Edgar\\10k\\719184_0000711642-12-000040.txt\n",
        "C:\\Users\\zacharybeaver\\Documents\\Edgar\\docs\\78838_0000078838-10-000002.txt\n",
        "C:\\Users\\zacharybeaver\\Documents\\Edgar\\10k\\78838_0000078838-10-000002.txt\n",
        "C:\\Users\\zacharybeaver\\Documents\\Edgar\\docs\\1005006_0000898733-01-000186.txt\n",
        "C:\\Users\\zacharybeaver\\Documents\\Edgar\\10k\\1005006_0000898733-01-000186.txt\n",
        "C:\\Users\\zacharybeaver\\Documents\\Edgar\\docs\\1410389_0000905148-08-001770.txt\n",
        "C:\\Users\\zacharybeaver\\Documents\\Edgar\\10k\\1410389_0000905148-08-001770.txt\n",
        "C:\\Users\\zacharybeaver\\Documents\\Edgar\\docs\\73756_0000950129-09-000581.txt\n",
        "C:\\Users\\zacharybeaver\\Documents\\Edgar\\10k\\73756_0000950129-09-000581.txt\n",
        "C:\\Users\\zacharybeaver\\Documents\\Edgar\\docs\\1375283_0001056404-07-001584.txt\n",
        "C:\\Users\\zacharybeaver\\Documents\\Edgar\\10k\\1375283_0001056404-07-001584.txt\n",
        "C:\\Users\\zacharybeaver\\Documents\\Edgar\\docs\\30573_0000950132-97-000233.txt\n",
        "C:\\Users\\zacharybeaver\\Documents\\Edgar\\10k\\30573_0000950132-97-000233.txt\n",
        "C:\\Users\\zacharybeaver\\Documents\\Edgar\\docs\\784977_0000784977-04-000008.txt\n",
        "C:\\Users\\zacharybeaver\\Documents\\Edgar\\10k\\784977_0000784977-04-000008.txt\n",
        "C:\\Users\\zacharybeaver\\Documents\\Edgar\\docs\\1376502_0001213900-11-002040.txt\n",
        "C:\\Users\\zacharybeaver\\Documents\\Edgar\\10k\\1376502_0001213900-11-002040.txt\n"
       ]
      }
     ],
     "prompt_number": 31
    },
    {
     "cell_type": "code",
     "collapsed": false,
     "input": [
      "%pwd"
     ],
     "language": "python",
     "metadata": {},
     "outputs": [
      {
       "metadata": {},
       "output_type": "pyout",
       "prompt_number": 26,
       "text": [
        "u'C:\\\\Users\\\\zacharybeaver\\\\Documents\\\\Edgar'"
       ]
      }
     ],
     "prompt_number": 26
    },
    {
     "cell_type": "code",
     "collapsed": false,
     "input": [
      "with open(\"C:\\Users\\zacharybeaver\\Documents\\Edgar\\docs\\824412_0000892569-96-001959.txt\", \"r\") as fp:\n",
      "    print fp"
     ],
     "language": "python",
     "metadata": {},
     "outputs": [
      {
       "ename": "IOError",
       "evalue": "[Errno 2] No such file or directory: 'C:\\\\Users\\\\zacharybeaver\\\\Documents\\\\Edgar\\\\docs\\\\824412_0000892569-96-001959.txt'",
       "output_type": "pyerr",
       "traceback": [
        "\u001b[1;31m---------------------------------------------------------------------------\u001b[0m\n\u001b[1;31mIOError\u001b[0m                                   Traceback (most recent call last)",
        "\u001b[1;32m<ipython-input-30-5619808fd893>\u001b[0m in \u001b[0;36m<module>\u001b[1;34m()\u001b[0m\n\u001b[1;32m----> 1\u001b[1;33m \u001b[1;32mwith\u001b[0m \u001b[0mopen\u001b[0m\u001b[1;33m(\u001b[0m\u001b[1;34m\"C:\\Users\\zacharybeaver\\Documents\\Edgar\\docs\\824412_0000892569-96-001959.txt\"\u001b[0m\u001b[1;33m,\u001b[0m \u001b[1;34m\"r\"\u001b[0m\u001b[1;33m)\u001b[0m \u001b[1;32mas\u001b[0m \u001b[0mfp\u001b[0m\u001b[1;33m:\u001b[0m\u001b[1;33m\u001b[0m\u001b[0m\n\u001b[0m\u001b[0;32m      2\u001b[0m     \u001b[1;32mprint\u001b[0m \u001b[0mfp\u001b[0m\u001b[1;33m\u001b[0m\u001b[0m\n",
        "\u001b[1;31mIOError\u001b[0m: [Errno 2] No such file or directory: 'C:\\\\Users\\\\zacharybeaver\\\\Documents\\\\Edgar\\\\docs\\\\824412_0000892569-96-001959.txt'"
       ]
      }
     ],
     "prompt_number": 30
    },
    {
     "cell_type": "code",
     "collapsed": false,
     "input": [],
     "language": "python",
     "metadata": {},
     "outputs": []
    }
   ],
   "metadata": {}
  }
 ]
}
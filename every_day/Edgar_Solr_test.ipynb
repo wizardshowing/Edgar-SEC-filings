{
 "metadata": {
  "name": "",
  "signature": "sha256:c322c311bacf93c7191fd37229228ecc9178ea182c917c16b82d7fb3cdd18a9d"
 },
 "nbformat": 3,
 "nbformat_minor": 0,
 "worksheets": [
  {
   "cells": [
    {
     "cell_type": "code",
     "collapsed": false,
     "input": [
      "import sunburnt\n",
      "import re\n",
      "from time import time"
     ],
     "language": "python",
     "metadata": {},
     "outputs": [],
     "prompt_number": 70
    },
    {
     "cell_type": "code",
     "collapsed": false,
     "input": [
      "time1 = time()"
     ],
     "language": "python",
     "metadata": {},
     "outputs": [],
     "prompt_number": 71
    },
    {
     "cell_type": "code",
     "collapsed": false,
     "input": [
      "# Function to extract header and body from EDGAR file\n",
      "def get_header_body(edgar_filepath):\n",
      "    \n",
      "    #Open the file\n",
      "    with open(edgar_filepath, \"r\") as f:\n",
      "        preprocess = list(f)\n",
      "        \n",
      "    #Get rid of the excess at the top and bottom\n",
      "    edgar_string = \"\".join(preprocess[10:-1])\n",
      "    \n",
      "    #Get the header\n",
      "    header_list = re.split(\"<\\/?SEC-HEADER>\",edgar_string)\n",
      "    header = header_list[1]\n",
      "    \n",
      "    #Get the body\n",
      "    edgar_list = re.split(\"<\\/?TEXT>\",edgar_string)\n",
      "    body = \"\"\n",
      "    for i in range(len(edgar_list)):\n",
      "        if i%2==1:\n",
      "            body = body + edgar_list[i]\n",
      "            \n",
      "    #Return the header and body\n",
      "    return header, body"
     ],
     "language": "python",
     "metadata": {},
     "outputs": [],
     "prompt_number": 72
    },
    {
     "cell_type": "code",
     "collapsed": false,
     "input": [
      "metafile = \"Z:\\\\Projects\\\\Active\\\\Edgar\\\\metadata\\\\metadata_test.txt\""
     ],
     "language": "python",
     "metadata": {},
     "outputs": [],
     "prompt_number": 73
    },
    {
     "cell_type": "code",
     "collapsed": false,
     "input": [
      "with open(metafile,\"r\") as f:\n",
      "        metalist = list(f)\n",
      "    "
     ],
     "language": "python",
     "metadata": {},
     "outputs": [],
     "prompt_number": 81
    },
    {
     "cell_type": "code",
     "collapsed": false,
     "input": [
      "final_list = []\n",
      "\n",
      "for line in metalist:\n",
      "    if line[-1] == \"\\n\":\n",
      "        new_line = line[:-1]\n",
      "    else:\n",
      "        new_line = line\n",
      "    new_metalist = new_line.split(\"|\")\n",
      "    final_list.append(new_metalist)"
     ],
     "language": "python",
     "metadata": {},
     "outputs": [],
     "prompt_number": 80
    },
    {
     "cell_type": "code",
     "collapsed": false,
     "input": [
      "# Create connection to Solr\n",
      "solr_interface = sunburnt.SolrInterface(\"http://datamine1:8080/solr\")"
     ],
     "language": "python",
     "metadata": {},
     "outputs": [],
     "prompt_number": 76
    },
    {
     "cell_type": "code",
     "collapsed": false,
     "input": [
      "for item in final_list:\n",
      "    company = item[0]\n",
      "    form = item[1]\n",
      "    cik = item[2]\n",
      "    date = item[3]\n",
      "    path = item[4]\n",
      "    header, body = get_header_body(path) \n",
      "    document = {\n",
      "    \"cik\":cik,\n",
      "    \"company\":company,\n",
      "    \"date\":date,\n",
      "    \"header\":header,\n",
      "    \"body\":body,\n",
      "    \"form\":form,\n",
      "    \"path\":path\n",
      "    }\n",
      "    solr_interface.add(document)"
     ],
     "language": "python",
     "metadata": {},
     "outputs": [],
     "prompt_number": 77
    },
    {
     "cell_type": "code",
     "collapsed": false,
     "input": [
      "time2 = time()"
     ],
     "language": "python",
     "metadata": {},
     "outputs": [],
     "prompt_number": 78
    },
    {
     "cell_type": "code",
     "collapsed": false,
     "input": [
      "time = time2 - time1\n",
      "print(time)"
     ],
     "language": "python",
     "metadata": {},
     "outputs": [
      {
       "output_type": "stream",
       "stream": "stdout",
       "text": [
        "10.8619999886\n"
       ]
      }
     ],
     "prompt_number": 79
    },
    {
     "cell_type": "code",
     "collapsed": false,
     "input": [
      "solr_interface.commit()"
     ],
     "language": "python",
     "metadata": {},
     "outputs": [],
     "prompt_number": 65
    },
    {
     "cell_type": "code",
     "collapsed": false,
     "input": [],
     "language": "python",
     "metadata": {},
     "outputs": []
    }
   ],
   "metadata": {}
  }
 ]
}
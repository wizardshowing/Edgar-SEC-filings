{
 "metadata": {
  "name": "",
  "signature": "sha256:ca715825efcc1636f12c5e8e98c39cecafe72c6a7c6b6f5c9c730b029e4c4caf"
 },
 "nbformat": 3,
 "nbformat_minor": 0,
 "worksheets": [
  {
   "cells": [
    {
     "cell_type": "code",
     "collapsed": false,
     "input": [
      "#Import Libraries\n",
      "from ftplib import FTP\n",
      "from time import time, sleep\n",
      "from datetime import datetime\n",
      "import pickle\n",
      "import re"
     ],
     "language": "python",
     "metadata": {},
     "outputs": [],
     "prompt_number": 1
    },
    {
     "cell_type": "code",
     "collapsed": false,
     "input": [
      "#Download a file\n",
      "#Download file to local directory; use switch to determine naming conventions\n",
      "#Returns the local filepath to be fed into the next function***Test this\n",
      "def download_local_file(filename, destination, switch, ftp_class, form = None):\n",
      "    \n",
      "    #If we want to append part of the directory name to the file\n",
      "    if switch == 2:\n",
      "        #Get the last two elements of the filepath\n",
      "        filepath = ftp_class.pwd()\n",
      "        \n",
      "        split = filepath.split('/')\n",
      "        extension = \"_\".join(split[-2:])\n",
      "\n",
      "        local_file = open(destination + extension + \"_\" + filename, 'w')\n",
      "        ftp_class.retrbinary(\"RETR \" + filename, local_file.write)\n",
      "        local_file.close()\n",
      "        \n",
      "        return destination + extension + \"_\" + filename\n",
      "    \n",
      "    elif switch == 1:\n",
      "\n",
      "        #local_file = open(destination + extension + \"_\" + filename, 'w')\n",
      "        binary_data = []\n",
      "        ftp_class.retrbinary(\"RETR \" + filename, binary_data.append)\n",
      "        #local_file.close()\n",
      "        \n",
      "        return binary_data\n",
      "    \n",
      "    elif switch == 3:\n",
      "                \n",
      "        split = filename.split('/')\n",
      "        name = destination + split[-2] + \"_\" + split[-1]\n",
      "\n",
      "        local_file = open(name, 'w')\n",
      "        ftp_class.retrbinary(\"RETR \" + filename, local_file.write)\n",
      "        local_file.close()\n",
      "        \n",
      "        return name\n",
      "    \n",
      "    elif switch == 4:\n",
      "        split = filename.split('/')\n",
      "        name = destination + split[-2] + \"_\" + split[-1] + \"_\" + form\n",
      "\n",
      "        local_file = open(name, 'w')\n",
      "        ftp_class.retrbinary(\"RETR \" + filename, local_file.write)\n",
      "        local_file.close()\n",
      "        \n",
      "        return name\n",
      "    \n",
      "    else:\n",
      "        \n",
      "        local_file = open(destination + filename, 'w')\n",
      "        ftp_class.retrbinary(\"RETR \" + filename, local_file.write)\n",
      "        local_file.close()\n",
      "        \n",
      "        return destination + extension + \"_\" + filename"
     ],
     "language": "python",
     "metadata": {},
     "outputs": [],
     "prompt_number": 2
    },
    {
     "cell_type": "code",
     "collapsed": false,
     "input": [
      "#Get filepaths to data on server\n",
      "def get_file_paths(indexed_file):\n",
      "    \n",
      "    with open(indexed_file, \"r\") as index_file:\n",
      "        index_list = list(index_file)\n",
      "    \n",
      "    #Find indices for splitting fields (since their fixed-width)\n",
      "    index_list = index_list[10:]\n",
      "    company_name_i = 62\n",
      "    form_type_i = 74\n",
      "    cik_i = 86\n",
      "    date_filed_i = 98\n",
      "    file_name_i = len(index_list[0])\n",
      "\n",
      "    cleaned_indices = []\n",
      "    file_paths = []\n",
      "    \n",
      "    for index in index_list:\n",
      "        metadata = []\n",
      "        metadata.append(index[:company_name_i].rstrip())\n",
      "        metadata.append(index[company_name_i:form_type_i].rstrip())\n",
      "        metadata.append(index[form_type_i:cik_i].rstrip())\n",
      "        metadata.append(index[cik_i:date_filed_i].rstrip())\n",
      "        file_path = index[date_filed_i:file_name_i].rstrip()\n",
      "        metadata.append(file_path)\n",
      "        file_paths.append(\"/\" + file_path)\n",
      "        cleaned_indices.append(metadata)\n",
      "        \n",
      "    return file_paths, cleaned_indices"
     ],
     "language": "python",
     "metadata": {},
     "outputs": [],
     "prompt_number": 3
    },
    {
     "cell_type": "code",
     "collapsed": false,
     "input": [
      "with open(\"C:\\\\Users\\\\zacharybeaver\\\\Documents\\\\Edgar\\\\all_indices.txt\", \"r\") as indices:\n",
      "    indices_list = list(indices)"
     ],
     "language": "python",
     "metadata": {},
     "outputs": [],
     "prompt_number": 4
    },
    {
     "cell_type": "code",
     "collapsed": false,
     "input": [
      "with open(\"C:\\\\Users\\\\zacharybeaver\\\\Documents\\\\Edgar\\\\indexes_left.pickle\", \"wb\") as f:\n",
      "    for i in range(len(indices_list)):\n",
      "        indices_list[i] = indices_list[i][:-1]\n",
      "    pickle.dump(indices_list, f)\n",
      "\n",
      "with open(\"C:\\\\Users\\\\zacharybeaver\\\\Documents\\\\Edgar\\\\all_metadata.txt\", \"r\") as metadata:\n",
      "    ###need to fix this to pick up where left off\n",
      "    metadata_list = list(metadata)\n",
      "\n",
      "with open(\"C:\\\\Users\\\\zacharybeaver\\\\Documents\\\\Edgar\\\\metadata_left.pickle\", \"wb\") as f:\n",
      "    for i in range(len(metadata_list)):\n",
      "        metadata_list[i] = metadata_list[i][:-1]\n",
      "    pickle.dump(metadata_list, f)"
     ],
     "language": "python",
     "metadata": {},
     "outputs": [],
     "prompt_number": 5
    },
    {
     "cell_type": "code",
     "collapsed": false,
     "input": [
      "metadata_list[1]"
     ],
     "language": "python",
     "metadata": {},
     "outputs": [
      {
       "metadata": {},
       "output_type": "pyout",
       "prompt_number": 6,
       "text": [
        "'RBS PARTNERS L P /CT|13FCONP|860585|1993-02-11'"
       ]
      }
     ],
     "prompt_number": 6
    },
    {
     "cell_type": "code",
     "collapsed": false,
     "input": [
      "metadata_ciks = [item.split('|')[-2] for item in metadata_list]\n",
      "metadata_form_type = [item.split('|')[-3] for item in metadata_list]"
     ],
     "language": "python",
     "metadata": {},
     "outputs": [],
     "prompt_number": 6
    },
    {
     "cell_type": "code",
     "collapsed": false,
     "input": [
      "comp_index_dict = {\"64670\": \"Medtronic\", \"1110803\" : \"Whole Foods\", \"865436\" : \"Home Depot\", \"60667\" : \"Lowes\",\n",
      "                   \"1065088\" : \"Ebay\", \"1110803\" : \"Illumina\", \"789019\" : \"Microsoft\", \n",
      "                   \"78003\" : \"Pfizer\" , \"97745\" : \"Thermo Fisher Scientific\", \"320193\" : \"Apple Inc.\"\n",
      "}\n",
      "file_index_dict = {}\n",
      "for key in comp_index_dict.keys():\n",
      "    file_index_dict[key] = []"
     ],
     "language": "python",
     "metadata": {},
     "outputs": [],
     "prompt_number": 7
    },
    {
     "cell_type": "code",
     "collapsed": false,
     "input": [
      "len(indices_list) == len(metadata_form_type)"
     ],
     "language": "python",
     "metadata": {},
     "outputs": [
      {
       "metadata": {},
       "output_type": "pyout",
       "prompt_number": 8,
       "text": [
        "True"
       ]
      }
     ],
     "prompt_number": 8
    },
    {
     "cell_type": "code",
     "collapsed": false,
     "input": [],
     "language": "python",
     "metadata": {},
     "outputs": [],
     "prompt_number": 8
    },
    {
     "cell_type": "code",
     "collapsed": false,
     "input": [
      "#Get the indices for of all filings pertaining to the 10 companies listed above\n",
      "for i in range(len(metadata_ciks)):\n",
      "    cur_cik = metadata_ciks[i]\n",
      "    if cur_cik in file_index_dict.keys():\n",
      "        file_index_dict[cur_cik].append(i)"
     ],
     "language": "python",
     "metadata": {},
     "outputs": [],
     "prompt_number": 9
    },
    {
     "cell_type": "code",
     "collapsed": false,
     "input": [
      "for key in file_index_dict.keys():\n",
      "    print comp_index_dict[key], \":\", len(file_index_dict[key])"
     ],
     "language": "python",
     "metadata": {},
     "outputs": [
      {
       "output_type": "stream",
       "stream": "stdout",
       "text": [
        "Microsoft : 2616\n",
        "Thermo Fisher Scientific : 1710\n",
        "Apple Inc. : 1162\n",
        "Lowes : 1459\n",
        "Medtronic : 1710\n",
        "Home Depot : 1695\n",
        "Pfizer : 4098\n",
        "Illumina : 2017\n",
        "Ebay : 1540\n"
       ]
      }
     ],
     "prompt_number": 10
    },
    {
     "cell_type": "code",
     "collapsed": false,
     "input": [
      "comp_index_dict.keys()"
     ],
     "language": "python",
     "metadata": {},
     "outputs": [
      {
       "metadata": {},
       "output_type": "pyout",
       "prompt_number": 18,
       "text": [
        "['60667',\n",
        " '320193',\n",
        " '789019',\n",
        " '64670',\n",
        " '97745',\n",
        " '865436',\n",
        " '78003',\n",
        " '1110803',\n",
        " '1065088']"
       ]
      }
     ],
     "prompt_number": 18
    },
    {
     "cell_type": "code",
     "collapsed": false,
     "input": [
      "base_path = \"C:\\\\Users\\\\zacharybeaver\\\\Documents\\\\Edgar\\\\company_data\\\\\""
     ],
     "language": "python",
     "metadata": {},
     "outputs": [],
     "prompt_number": 11
    },
    {
     "cell_type": "code",
     "collapsed": false,
     "input": [
      "#Create folders for each company\n",
      "import os\n",
      "companies = comp_index_dict.values()\n",
      "for dir_name in companies:\n",
      "    os.makedirs(base_path + dir_name)"
     ],
     "language": "python",
     "metadata": {},
     "outputs": [],
     "prompt_number": 12
    },
    {
     "cell_type": "code",
     "collapsed": false,
     "input": [
      "#connect to Edgar\n",
      "ftp = FTP(\"ftp.sec.gov\")\n",
      "ftp.login()"
     ],
     "language": "python",
     "metadata": {},
     "outputs": [
      {
       "metadata": {},
       "output_type": "pyout",
       "prompt_number": 13,
       "text": [
        "'230-Anonymous access granted, restrictions apply\\n \\n Please read the file README.txt\\n230    it was last modified on Tue Aug 15 14:29:31 2000 - 5304 days ago'"
       ]
      }
     ],
     "prompt_number": 13
    },
    {
     "cell_type": "code",
     "collapsed": false,
     "input": [
      "###Download all these files###\n",
      "success = {}\n",
      "bad = {}\n",
      "timing = []\n",
      "for cik in comp_index_dict.keys():\n",
      "    #Get the path into which to download files\n",
      "    comp_path = base_path + comp_index_dict[cik] + \"\\\\\"\n",
      "    start = time()\n",
      "    success[cik] = []\n",
      "    bad[cik] = []\n",
      "    \n",
      "    #Loop through all the indexes and download the appropriate files to the directory\n",
      "    i = 0\n",
      "    for index in file_index_dict[cik]:\n",
      "        i += 1\n",
      "        edgar_filepath = indices_list[index]\n",
      "        form_name = re.sub('/', '', metadata_form_type[index])\n",
      "        \n",
      "        if i % 300 == 0:\n",
      "            sleep(20)\n",
      "            print \"Done with\", i, \"for cik:\", cik\n",
      "        \n",
      "        #download the file\n",
      "        try:\n",
      "            success[cik].append(download_local_file(edgar_filepath, comp_path, 4, ftp, form_name))\n",
      "        except:\n",
      "            bad[cik].append(index)\n",
      "    stop = time()\n",
      "    timing.append(stop - start)"
     ],
     "language": "python",
     "metadata": {},
     "outputs": [
      {
       "output_type": "stream",
       "stream": "stdout",
       "text": [
        "Done with 300 for cik: 60667\n",
        "Done with"
       ]
      },
      {
       "output_type": "stream",
       "stream": "stdout",
       "text": [
        " 600 for cik: 60667\n",
        "Done with"
       ]
      },
      {
       "output_type": "stream",
       "stream": "stdout",
       "text": [
        " 900 for cik: 60667\n",
        "Done with"
       ]
      },
      {
       "output_type": "stream",
       "stream": "stdout",
       "text": [
        " 1200 for cik: 60667\n",
        "Done with"
       ]
      },
      {
       "output_type": "stream",
       "stream": "stdout",
       "text": [
        " 300 for cik: 320193\n",
        "Done with"
       ]
      },
      {
       "output_type": "stream",
       "stream": "stdout",
       "text": [
        " 600 for cik: 320193\n",
        "Done with"
       ]
      },
      {
       "output_type": "stream",
       "stream": "stdout",
       "text": [
        " 900 for cik: 320193\n",
        "Done with"
       ]
      },
      {
       "output_type": "stream",
       "stream": "stdout",
       "text": [
        " 300 for cik: 789019\n",
        "Done with"
       ]
      },
      {
       "output_type": "stream",
       "stream": "stdout",
       "text": [
        " 600 for cik: 789019\n",
        "Done with"
       ]
      },
      {
       "output_type": "stream",
       "stream": "stdout",
       "text": [
        " 900 for cik: 789019\n",
        "Done with"
       ]
      },
      {
       "output_type": "stream",
       "stream": "stdout",
       "text": [
        " 1200 for cik: 789019\n",
        "Done with"
       ]
      },
      {
       "output_type": "stream",
       "stream": "stdout",
       "text": [
        " 1500 for cik: 789019\n",
        "Done with"
       ]
      },
      {
       "output_type": "stream",
       "stream": "stdout",
       "text": [
        " 1800 for cik: 789019\n",
        "Done with"
       ]
      },
      {
       "output_type": "stream",
       "stream": "stdout",
       "text": [
        " 2100 for cik: 789019\n",
        "Done with"
       ]
      },
      {
       "output_type": "stream",
       "stream": "stdout",
       "text": [
        " 2400 for cik: 789019\n",
        "Done with"
       ]
      },
      {
       "output_type": "stream",
       "stream": "stdout",
       "text": [
        " 300 for cik: 64670\n",
        "Done with"
       ]
      },
      {
       "output_type": "stream",
       "stream": "stdout",
       "text": [
        " 600 for cik: 64670\n",
        "Done with"
       ]
      },
      {
       "output_type": "stream",
       "stream": "stdout",
       "text": [
        " 900 for cik: 64670\n",
        "Done with"
       ]
      },
      {
       "output_type": "stream",
       "stream": "stdout",
       "text": [
        " 1200 for cik: 64670\n",
        "Done with"
       ]
      },
      {
       "output_type": "stream",
       "stream": "stdout",
       "text": [
        " 1500 for cik: 64670\n",
        "Done with"
       ]
      },
      {
       "output_type": "stream",
       "stream": "stdout",
       "text": [
        " 300 for cik: 97745\n",
        "Done with"
       ]
      },
      {
       "output_type": "stream",
       "stream": "stdout",
       "text": [
        " 600 for cik: 97745\n",
        "Done with"
       ]
      },
      {
       "output_type": "stream",
       "stream": "stdout",
       "text": [
        " 900 for cik: 97745\n",
        "Done with"
       ]
      },
      {
       "output_type": "stream",
       "stream": "stdout",
       "text": [
        " 1200 for cik: 97745\n",
        "Done with"
       ]
      },
      {
       "output_type": "stream",
       "stream": "stdout",
       "text": [
        " 1500 for cik: 97745\n",
        "Done with"
       ]
      },
      {
       "output_type": "stream",
       "stream": "stdout",
       "text": [
        " 300 for cik: 865436\n",
        "Done with"
       ]
      },
      {
       "output_type": "stream",
       "stream": "stdout",
       "text": [
        " 600 for cik: 865436\n",
        "Done with"
       ]
      },
      {
       "output_type": "stream",
       "stream": "stdout",
       "text": [
        " 900 for cik: 865436\n",
        "Done with"
       ]
      },
      {
       "output_type": "stream",
       "stream": "stdout",
       "text": [
        " 1200 for cik: 865436\n",
        "Done with"
       ]
      },
      {
       "output_type": "stream",
       "stream": "stdout",
       "text": [
        " 1500 for cik: 865436\n",
        "Done with"
       ]
      },
      {
       "output_type": "stream",
       "stream": "stdout",
       "text": [
        " 300 for cik: 78003\n",
        "Done with"
       ]
      },
      {
       "output_type": "stream",
       "stream": "stdout",
       "text": [
        " 600 for cik: 78003\n",
        "Done with"
       ]
      },
      {
       "output_type": "stream",
       "stream": "stdout",
       "text": [
        " 900 for cik: 78003\n",
        "Done with"
       ]
      },
      {
       "output_type": "stream",
       "stream": "stdout",
       "text": [
        " 1200 for cik: 78003\n",
        "Done with"
       ]
      },
      {
       "output_type": "stream",
       "stream": "stdout",
       "text": [
        " 1500 for cik: 78003\n",
        "Done with"
       ]
      },
      {
       "output_type": "stream",
       "stream": "stdout",
       "text": [
        " 1800 for cik: 78003\n",
        "Done with"
       ]
      },
      {
       "output_type": "stream",
       "stream": "stdout",
       "text": [
        " 2100 for cik: 78003\n",
        "Done with"
       ]
      },
      {
       "output_type": "stream",
       "stream": "stdout",
       "text": [
        " 2400 for cik: 78003\n",
        "Done with"
       ]
      },
      {
       "output_type": "stream",
       "stream": "stdout",
       "text": [
        " 2700 for cik: 78003\n",
        "Done with"
       ]
      },
      {
       "output_type": "stream",
       "stream": "stdout",
       "text": [
        " 3000 for cik: 78003\n",
        "Done with"
       ]
      },
      {
       "output_type": "stream",
       "stream": "stdout",
       "text": [
        " 3300 for cik: 78003\n",
        "Done with"
       ]
      },
      {
       "output_type": "stream",
       "stream": "stdout",
       "text": [
        " 3600 for cik: 78003\n",
        "Done with"
       ]
      },
      {
       "output_type": "stream",
       "stream": "stdout",
       "text": [
        " 3900 for cik: 78003\n",
        "Done with"
       ]
      },
      {
       "output_type": "stream",
       "stream": "stdout",
       "text": [
        " 300 for cik: 1110803\n",
        "Done with"
       ]
      },
      {
       "output_type": "stream",
       "stream": "stdout",
       "text": [
        " 600 for cik: 1110803\n",
        "Done with"
       ]
      },
      {
       "output_type": "stream",
       "stream": "stdout",
       "text": [
        " 900 for cik: 1110803\n",
        "Done with"
       ]
      },
      {
       "output_type": "stream",
       "stream": "stdout",
       "text": [
        " 1200 for cik: 1110803\n",
        "Done with"
       ]
      },
      {
       "output_type": "stream",
       "stream": "stdout",
       "text": [
        " 1500 for cik: 1110803\n",
        "Done with"
       ]
      },
      {
       "output_type": "stream",
       "stream": "stdout",
       "text": [
        " 1800 for cik: 1110803\n",
        "Done with"
       ]
      },
      {
       "output_type": "stream",
       "stream": "stdout",
       "text": [
        " 300 for cik: 1065088\n",
        "Done with"
       ]
      },
      {
       "output_type": "stream",
       "stream": "stdout",
       "text": [
        " 600 for cik: 1065088\n",
        "Done with"
       ]
      },
      {
       "output_type": "stream",
       "stream": "stdout",
       "text": [
        " 900 for cik: 1065088\n",
        "Done with"
       ]
      },
      {
       "output_type": "stream",
       "stream": "stdout",
       "text": [
        " 1200 for cik: 1065088\n",
        "Done with"
       ]
      },
      {
       "output_type": "stream",
       "stream": "stdout",
       "text": [
        " 1500 for cik: 1065088\n"
       ]
      }
     ],
     "prompt_number": 14
    },
    {
     "cell_type": "code",
     "collapsed": false,
     "input": [
      "sum(timing) / 60"
     ],
     "language": "python",
     "metadata": {},
     "outputs": [
      {
       "metadata": {},
       "output_type": "pyout",
       "prompt_number": 17,
       "text": [
        "164.81749999920527"
       ]
      }
     ],
     "prompt_number": 17
    },
    {
     "cell_type": "code",
     "collapsed": false,
     "input": [
      "print bad"
     ],
     "language": "python",
     "metadata": {},
     "outputs": [
      {
       "output_type": "stream",
       "stream": "stdout",
       "text": [
        "[12419, 12420, 12421, 771, 772, 773, 58836, 58838, 12886, 58296, 19217, 19218, 19219, 19220, 19221, 19222, 19224, 96976, 228365, 326424, 61962, 1526259, 1526260, 1526261, 1526262, 1526263, 1526264, 861834, 861835, 861836, 861837]\n"
       ]
      }
     ],
     "prompt_number": 29
    },
    {
     "cell_type": "code",
     "collapsed": false,
     "input": [
      "print bad1"
     ],
     "language": "python",
     "metadata": {},
     "outputs": [
      {
       "output_type": "stream",
       "stream": "stdout",
       "text": [
        "[12419, 12420, 12421, 771, 772, 773, 58836, 58838, 12886, 58296, 19217, 19218, 19219, 19220, 19221, 19222, 19224, 96976, 228365, 326424, 61962, 1526259, 1526260, 1526261, 1526262, 1526263, 1526264, 861834, 861835, 861836, 861837]\n"
       ]
      }
     ],
     "prompt_number": 30
    },
    {
     "cell_type": "code",
     "collapsed": false,
     "input": [
      "ftp = FTP(\"ftp.sec.gov\")\n",
      "ftp.login()"
     ],
     "language": "python",
     "metadata": {},
     "outputs": []
    },
    {
     "cell_type": "code",
     "collapsed": false,
     "input": [
      "?os.makedirs"
     ],
     "language": "python",
     "metadata": {},
     "outputs": [],
     "prompt_number": 38
    },
    {
     "cell_type": "code",
     "collapsed": false,
     "input": [
      "bad"
     ],
     "language": "python",
     "metadata": {},
     "outputs": [
      {
       "metadata": {},
       "output_type": "pyout",
       "prompt_number": 21,
       "text": [
        "[12419,\n",
        " 12420,\n",
        " 12421,\n",
        " 771,\n",
        " 772,\n",
        " 773,\n",
        " 58836,\n",
        " 58838,\n",
        " 12886,\n",
        " 58296,\n",
        " 19217,\n",
        " 19218,\n",
        " 19219,\n",
        " 19220,\n",
        " 19221,\n",
        " 19222,\n",
        " 19224,\n",
        " 96976,\n",
        " 228365,\n",
        " 326424,\n",
        " 61962,\n",
        " 1526259,\n",
        " 1526260,\n",
        " 1526261,\n",
        " 1526262,\n",
        " 1526263,\n",
        " 1526264,\n",
        " 861834,\n",
        " 861835,\n",
        " 861836,\n",
        " 861837]"
       ]
      }
     ],
     "prompt_number": 21
    },
    {
     "cell_type": "code",
     "collapsed": false,
     "input": [
      "indices_list[12419]"
     ],
     "language": "python",
     "metadata": {},
     "outputs": [
      {
       "metadata": {},
       "output_type": "pyout",
       "prompt_number": 22,
       "text": [
        "'/edgar/data/60667/0000315066-94-000723.txt'"
       ]
      }
     ],
     "prompt_number": 22
    },
    {
     "cell_type": "code",
     "collapsed": false,
     "input": [
      "download_local_file(indices_list[12419], base_path, 4, ftp, \"test\")"
     ],
     "language": "python",
     "metadata": {},
     "outputs": [
      {
       "metadata": {},
       "output_type": "pyout",
       "prompt_number": 24,
       "text": [
        "'C:\\\\Users\\\\zacharybeaver\\\\Documents\\\\Edgar\\\\company_data\\\\60667_test_0000315066-94-000723.txt'"
       ]
      }
     ],
     "prompt_number": 24
    },
    {
     "cell_type": "code",
     "collapsed": false,
     "input": [],
     "language": "python",
     "metadata": {},
     "outputs": []
    }
   ],
   "metadata": {}
  }
 ]
}
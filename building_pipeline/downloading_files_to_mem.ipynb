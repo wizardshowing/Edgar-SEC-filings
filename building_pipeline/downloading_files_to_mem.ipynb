{
 "metadata": {
  "name": "",
  "signature": "sha256:bc9e55bed346539db78bda45bd039fdbbd63a281bfd2845b28910b5d902315bd"
 },
 "nbformat": 3,
 "nbformat_minor": 0,
 "worksheets": [
  {
   "cells": [
    {
     "cell_type": "heading",
     "level": 2,
     "metadata": {},
     "source": [
      "Load libraries and functions"
     ]
    },
    {
     "cell_type": "code",
     "collapsed": false,
     "input": [
      "import pickle\n",
      "from random import shuffle\n",
      "#Import Libraries\n",
      "from ftplib import FTP, all_errors\n",
      "from time import sleep, strftime, time\n",
      "from datetime import datetime\n",
      "import os\n",
      "from StringIO import StringIO\n",
      "import tarfile\n",
      "import bz2\n",
      "from zipfile import ZipFile\n",
      "\n",
      "\n",
      "#Get list of directories (assumes a certain structure)\n",
      "def get_dir_list(ftp_class):\n",
      "    ls = []\n",
      "    dir_list = []\n",
      "    ftp_class.retrlines('MLSD', ls.append)\n",
      "    for entry in ls:\n",
      "        split = entry.split(\";\")\n",
      "        if split[2] == \"type=dir\":\n",
      "            dir_list.append(split[-1][1:])\n",
      "\n",
      "    return dir_list\n",
      "    \n",
      "#Download file to local directory; use switch to determine naming conventions\n",
      "#Returns the local filepath to be fed into the next function***Test this\n",
      "def download_local_file(filename, destination, switch, ftp_class):\n",
      "    \n",
      "    #If we want to append part of the directory name to the file\n",
      "    if switch == 2:\n",
      "        #Get the last two elements of the filepath\n",
      "        filepath = ftp_class.pwd()\n",
      "        \n",
      "        split = filepath.split('/')\n",
      "        extension = \"_\".join(split[-2:])\n",
      "\n",
      "        local_file = open(destination + extension + \"_\" + filename, 'w')\n",
      "        ftp_class.retrbinary(\"RETR \" + filename, local_file.write)\n",
      "        local_file.close()\n",
      "        \n",
      "        return destination + extension + \"_\" + filename\n",
      "    \n",
      "    elif switch == 1:\n",
      "        \n",
      "        #local_file = open(destination + extension + \"_\" + filename, 'w')\n",
      "        binary_data = []\n",
      "        ftp_class.retrbinary(\"RETR \" + filename, binary_data.append)\n",
      "        #local_file.close()\n",
      "        \n",
      "        return binary_data\n",
      "    \n",
      "    elif switch == 3:\n",
      "                \n",
      "        split = filename.split('/')\n",
      "        name = destination + split[-2] + \"_\" + split[-1]\n",
      "\n",
      "        local_file = open(name, 'w')\n",
      "        ftp_class.retrbinary(\"RETR \" + filename, local_file.write)\n",
      "        local_file.close()\n",
      "        \n",
      "        return name\n",
      "    \n",
      "    elif switch == 4:\n",
      "        \n",
      "        split = filename.split('/')\n",
      "        name = destination + split[-2] + \"_\" + split[-1]\n",
      "        r = StringIO()\n",
      "        ftp.retrbinary('RETR ' + filename, r.write)\n",
      "        \n",
      "        return r.getvalue(), name\n",
      "    \n",
      "    #if not...\n",
      "    else:\n",
      "        \n",
      "        local_file = open(destination + filename, 'w')\n",
      "        ftp_class.retrbinary(\"RETR \" + filename, local_file.write)\n",
      "        local_file.close()\n",
      "        \n",
      "        return destination + extension + \"_\" + filename\n",
      "\n",
      "#This function compares whether it is 6 am yet or not\n",
      "def after_six_am():\n",
      "    now = datetime.now().time()\n",
      "    stop_time = datetime.strptime(\"06:00:00\",\"%H:%M:%S\").time()\n",
      "    nine_pm = datetime.strptime(\"20:45:00\",\"%H:%M:%S\").time()\n",
      "    return now > stop_time and now < nine_pm\n",
      "    \n",
      "#Login function\n",
      "def login():\n",
      "    try:\n",
      "        ftp = FTP(\"ftp.sec.gov\")\n",
      "        ftp.login()\n",
      "        ftp.pwd()\n",
      "        return ftp\n",
      "        \n",
      "    except:\n",
      "        if after_six_am():\n",
      "            pass\n",
      "        else:\n",
      "            sleep(20)\n",
      "            login()\n",
      "\n",
      "#Tar.gz will compress the total file to about 1 terabyte in 3.3 days\n",
      "def make_tarfile(output_filename, source_dir):\n",
      "    with tarfile.open(output_filename, \"w:gz\") as tar:\n",
      "        tar.add(source_dir, arcname=os.path.basename(source_dir))"
     ],
     "language": "python",
     "metadata": {},
     "outputs": [],
     "prompt_number": 4
    },
    {
     "cell_type": "heading",
     "level": 2,
     "metadata": {},
     "source": [
      "Get Random 1000 docs"
     ]
    },
    {
     "cell_type": "code",
     "collapsed": false,
     "input": [
      "###Script to download a random 1000 files from edgar###\n",
      "index_pickle = \"C:\\\\Users\\\\zacharybeaver\\\\Documents\\\\Github_stuffs\\\\web_scraping\\\\edgar\\\\indexes_left.pickle\"\n",
      "metadata_pickle = \"C:\\\\Users\\\\zacharybeaver\\\\Documents\\\\Github_stuffs\\\\web_scraping\\\\edgar\\\\metadata_left.pickle\"\n",
      "\n",
      "with open(index_pickle, \"rb\") as f:\n",
      "    indices = pickle.load(f)\n",
      "with open(metadata_pickle, \"rb\") as f:\n",
      "    metadata = pickle.load(f)\n",
      "    \n",
      "index = range(len(indices))\n",
      "shuffle(index)\n",
      "index = index[:1000]\n",
      "indices_list = [indices[i] for i in index]\n",
      "metadata_list = [metadata[i] for i in index]"
     ],
     "language": "python",
     "metadata": {},
     "outputs": [],
     "prompt_number": 2
    },
    {
     "cell_type": "heading",
     "level": 2,
     "metadata": {},
     "source": [
      "Download Files into memory"
     ]
    },
    {
     "cell_type": "code",
     "collapsed": false,
     "input": [
      "base_path = \"C:\\\\Users\\\\zacharybeaver\\\\Documents\\\\Github_stuffs\\\\web_scraping\\\\edgar\\\\building_pipeline\\\\documents\\\\\"\n",
      "max_files = 100.0\n",
      "j = 0\n",
      "bad_list = []\n",
      "\n",
      "#Login to the edgar server\n",
      "ftp = FTP(\"ftp.sec.gov\")\n",
      "ftp.login()\n",
      "\n",
      "time1 = time()\n",
      "\n",
      "#Loop through all the documents\n",
      "for i in range(len(indices_list)):\n",
      "    \n",
      "    #Check to see if we need to change directories\n",
      "    if i % int(max_files) == 0:\n",
      "        cur_folder = \"batch_\" + str(j)\n",
      "        os.makedirs(base_path + cur_folder)\n",
      "        j += 1\n",
      "    \n",
      "    #Return a string of the current doc\n",
      "    cur_doc, cur_file_name = download_local_file(indices_list[i], \"\", 4, ftp)\n",
      "    cur_metadata = metadata_list[i]\n",
      "    \n",
      "    ###Insert Ryan's code###\n",
      "    \n",
      "    #########################\n",
      "    \n",
      "    #Compress the file and save it\n",
      "    output = bz2.BZ2File(base_path + cur_folder + '\\\\' + cur_file_name + \".bz2\", 'wb')\n",
      "    try:\n",
      "        output.write(cur_doc)\n",
      "    except:\n",
      "        print \"had a problem with: \", indices_list[i]\n",
      "        bad_list.append(indices_list[i])\n",
      "    finally:\n",
      "        output.close()\n",
      "\n",
      "time2 = time()\n",
      "print \"total time: \", (time2 - time1) / 60.0"
     ],
     "language": "python",
     "metadata": {},
     "outputs": [
      {
       "output_type": "stream",
       "stream": "stdout",
       "text": [
        "total time:  9.64190000296\n"
       ]
      }
     ],
     "prompt_number": 6
    },
    {
     "cell_type": "code",
     "collapsed": false,
     "input": [
      "base_path = \"C:\\\\Users\\\\zacharybeaver\\\\Documents\\\\Github_stuffs\\\\web_scraping\\\\edgar\\\\building_pipeline\\\\documents_zip\\\\\"\n",
      "max_files = 100.0\n",
      "j = 0\n",
      "bad_list = []\n",
      "\n",
      "#Login to the edgar server\n",
      "ftp = FTP(\"ftp.sec.gov\")\n",
      "ftp.login()\n",
      "\n",
      "time1 = time()\n",
      "\n",
      "#Loop through all the documents\n",
      "for i in range(len(indices_list)):\n",
      "    \n",
      "    #Check to see if we need to change directories\n",
      "    if i % int(max_files) == 0:\n",
      "        cur_folder = \"batch_\" + str(j)\n",
      "        os.makedirs(base_path + cur_folder)\n",
      "        j += 1\n",
      "    \n",
      "    #Return a string of the current doc\n",
      "    cur_doc, cur_file_name = download_local_file(indices_list[i], \"\", 4, ftp)\n",
      "    #print cur_doc\n",
      "    cur_metadata = metadata_list[i]\n",
      "    \n",
      "    ###Insert Ryan's code###\n",
      "    \n",
      "    #########################\n",
      "    \n",
      "    #Compress the file and save it\n",
      "    output = ZipFile(base_path + cur_folder + '\\\\' + cur_file_name + \".zip\", 'w')\n",
      "    try:\n",
      "        output.writestr(cur_file_name, cur_doc)\n",
      "    except:\n",
      "        print \"had a problem with: \", indices_list[i]\n",
      "        bad_list.append(indices_list[i])\n",
      "    finally:\n",
      "        output.close()\n",
      "\n",
      "time2 = time()\n",
      "print \"total time: \", time2 - time1"
     ],
     "language": "python",
     "metadata": {},
     "outputs": []
    },
    {
     "cell_type": "code",
     "collapsed": false,
     "input": [
      "ftp = FTP(\"ftp.sec.gov\")\n",
      "ftp.login()\n"
     ],
     "language": "python",
     "metadata": {},
     "outputs": [
      {
       "metadata": {},
       "output_type": "pyout",
       "prompt_number": 9,
       "text": [
        "'230-Anonymous access granted, restrictions apply\\n \\n Please read the file README.txt\\n230    it was last modified on Tue Aug 15 14:29:31 2000 - 5214 days ago'"
       ]
      }
     ],
     "prompt_number": 9
    },
    {
     "cell_type": "code",
     "collapsed": false,
     "input": [
      "base_path + cur_folder + '\\\\' + \"try_me.zip\""
     ],
     "language": "python",
     "metadata": {},
     "outputs": [
      {
       "metadata": {},
       "output_type": "pyout",
       "prompt_number": 16,
       "text": [
        "'C:\\\\Users\\\\zacharybeaver\\\\Documents\\\\Github_stuffs\\\\web_scraping\\\\edgar\\\\building_pipeline\\\\documents_zip\\\\batch_0\\\\try_me.zip'"
       ]
      }
     ],
     "prompt_number": 16
    },
    {
     "cell_type": "code",
     "collapsed": false,
     "input": [
      "with ZipFile(base_path +  '\\\\' + \"try_me.zip\", 'w') as yo:\n",
      "    yo.writestr(\"test.txt\", \"why won't this work\")"
     ],
     "language": "python",
     "metadata": {},
     "outputs": [],
     "prompt_number": 23
    },
    {
     "cell_type": "code",
     "collapsed": false,
     "input": [],
     "language": "python",
     "metadata": {},
     "outputs": []
    }
   ],
   "metadata": {}
  }
 ]
}